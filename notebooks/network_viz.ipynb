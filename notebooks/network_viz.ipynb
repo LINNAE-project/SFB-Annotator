{
 "cells": [
  {
   "cell_type": "markdown",
   "metadata": {},
   "source": [
    "# Network visualisation: LINNAE triples\n",
    "\n",
    "Note: this notebook was derived from https://github.com/candYgene/notebooks/blob/master/usecase_1/example_2/network_viz.ipynb"
   ]
  },
  {
   "cell_type": "code",
   "execution_count": 1,
   "metadata": {},
   "outputs": [],
   "source": [
    "import networkx as nx\n",
    "import netwulf as nw\n",
    "import rdflib\n",
    "from rdflib.namespace import RDF, RDFS, OWL, XSD, FOAF, SKOS, DOAP, DC, DCTERMS, VOID"
   ]
  },
  {
   "cell_type": "code",
   "execution_count": 2,
   "metadata": {},
   "outputs": [],
   "source": [
    "ANNO = rdflib.Namespace(\"http://localhost:8080/rdf/nc/annotation/\")\n",
    "DWC = rdflib.Namespace(\"http://rs.tdwg.org/dwc/terms/\")\n",
    "NHC = rdflib.Namespace(\"http://makingsense.liacs.nl/rdf/nhc/\")\n",
    "DWCIRI =rdflib.Namespace(\"http://rs.tdwg.org/dwc/iri/\")\n",
    "OA =rdflib.Namespace(\"http://www.w3.org/ns/oa#\")\n",
    "DSW = rdflib.Namespace(\"http://purl.org/dsw/\")\n",
    "NC = rdflib.Namespace(\"http://makingsense.liacs.nl/rdf/nc/\")\n",
    "EX = rdflib.Namespace(\"http://localhost:8080/semanticAnnotator/files/\")\n",
    "DCMITYPE = rdflib.Namespace(\"http://purl.org/dc/dcmitype/\")"
   ]
  },
  {
   "cell_type": "code",
   "execution_count": 3,
   "metadata": {},
   "outputs": [],
   "source": [
    "g = rdflib.Graph()\n",
    "base_url = \"https://raw.githubusercontent.com/LINNAE-project/SFB-Annotator/master/data/rdf/local/\"\n",
    "rdf_file = base_url + \"example_1_2.ttl\"\n",
    "g.parse(rdf_file, format='ttl')\n",
    "g.bind(\"foaf\", FOAF)\n",
    "g.bind(\"rdf\", RDF)\n",
    "g.bind(\"dwc\", DWC)\n",
    "g.bind(\"dwciri\", DWCIRI)\n",
    "g.bind(\"dsw\", DSW)\n",
    "g.bind(\"nhc\", NHC)\n",
    "g.bind(\"dc\", DC)\n",
    "g.bind(\"oa\", OA)\n",
    "g.bind(\"dcterms\", DCTERMS)\n",
    "g.bind(\"nc\", NC)\n",
    "g.bind(\"ex\", EX)\n",
    "g.bind(\"dcmitype\", DCMITYPE)\n",
    "g.bind(\"anno\", ANNO)"
   ]
  },
  {
   "cell_type": "code",
   "execution_count": 4,
   "metadata": {},
   "outputs": [
    {
     "name": "stdout",
     "output_type": "stream",
     "text": [
      "graph has 57 statements.\n",
      "@prefix anno: <http://localhost:8080/rdf/nc/annotation/> .\n",
      "@prefix dcmitype: <http://purl.org/dc/dcmitype/> .\n",
      "@prefix dcterms: <http://purl.org/dc/terms/> .\n",
      "@prefix dsw: <http://purl.org/dsw/> .\n",
      "@prefix dwc: <http://rs.tdwg.org/dwc/terms/> .\n",
      "@prefix dwciri: <http://rs.tdwg.org/dwc/iri/> .\n",
      "@prefix ex: <http://localhost:8080/semanticAnnotator/files/> .\n",
      "@prefix foaf: <http://xmlns.com/foaf/0.1/> .\n",
      "@prefix iso: <http://iso639-3.sil.org/code/> .\n",
      "@prefix mf: <http://www.w3.org/TR/media-frags/> .\n",
      "@prefix nc: <http://makingsense.liacs.nl/rdf/nc/> .\n",
      "@prefix nhc: <http://makingsense.liacs.nl/rdf/nhc/> .\n",
      "@prefix oa: <http://www.w3.org/ns/oa#> .\n",
      "@prefix orcid: <http://orcid.org/> .\n",
      "@prefix rdf: <http://www.w3.org/1999/02/22-rdf-syntax-ns#> .\n",
      "@prefix rdfs: <http://www.w3.org/2000/01/rdf-schema#> .\n",
      "@prefix taxonomy: <http://identifiers.org/taxonomy/> .\n",
      "@prefix xsd: <http://www.w3.org/2001/XMLSchema#> .\n",
      "\n",
      "anno:d12f0d86-0148-44c2-b814-ed09e6553bc8 a oa:Annotation ;\n",
      "    dcterms:creator orcid:0000-0002-2146-4803 ;\n",
      "    dcterms:date \"2017-09-21\" ;\n",
      "    oa:hasBody [ a oa:TextualBody ;\n",
      "            dcterms:format \"text/plain\" ;\n",
      "            dcterms:language iso:lat ;\n",
      "            rdf:value \"Pteropus minimus\"@lat ;\n",
      "            oa:hasPurpose oa:describing ],\n",
      "        _:fd93f53698743411887b1d498fcd82ed2b2,\n",
      "        nc:humanObservation1 ;\n",
      "    oa:hasTarget [ a oa:Target ;\n",
      "            dcterms:format \"image/jpeg\" ;\n",
      "            oa:hasSelector [ a oa:FragmentSelector ;\n",
      "                    dcterms:conformsTo mf: ;\n",
      "                    rdf:value \"xywh=0.5564975105323632,0.15035962809369469,0.07070854078896982,0.017330524703178862\" ] ;\n",
      "            oa:hasSource ex:MMNAT01_AF_NNM001001033_003.jpg ],\n",
      "        ex:MMNAT01_AF_NNM001001033_003.jpg .\n",
      "\n",
      "nc:date1 a dcterms:date .\n",
      "\n",
      "nc:location1 a dcterms:Location ;\n",
      "    dsw:locates nc:event1 .\n",
      "\n",
      "orcid:0000-0002-2146-4803 a foaf:Person .\n",
      "\n",
      "ex:MMNAT01_AF_NNM001001033_003.jpg a dcmitype:StillImage,\n",
      "        oa:Source,\n",
      "        foaf:Image .\n",
      "\n",
      "nc:event1 a dwc:Event ;\n",
      "    nhc:verbatimEventDate nc:date1 ;\n",
      "    dsw:eventOf nc:occurrence1 ;\n",
      "    dsw:locatedAt nc:location1 .\n",
      "\n",
      "nc:identification1 a dwc:Identification ;\n",
      "    dsw:identifies nc:organism1 ;\n",
      "    dsw:isBasedOn nc:humanObservation1 ;\n",
      "    dwciri:identifiedBy <http://viaf.org/viaf/45106482/> ;\n",
      "    dwciri:toTaxon _:fd93f53698743411887b1d498fcd82ed2b2 ;\n",
      "    dwc:identificationID \"1\" .\n",
      "\n",
      "<http://viaf.org/viaf/45106482/> a foaf:Person .\n",
      "\n",
      "nc:occurrence1 a dwc:Occurrence ;\n",
      "    dsw:atEvent nc:event1 ;\n",
      "    dsw:hasEvidence nc:humanObservation1 ;\n",
      "    dsw:occurrenceOf nc:organism1 ;\n",
      "    dwciri:recordedBy <http://viaf.org/viaf/45106482/> .\n",
      "\n",
      "nc:organism1 a dwc:Organism ;\n",
      "    dsw:hasDerivative nc:humanObservation1 ;\n",
      "    dsw:hasIdentification nc:identification1 ;\n",
      "    dsw:hasOccurrence nc:occurrence1 ;\n",
      "    dwc:organismID \"1\" .\n",
      "\n",
      "nc:humanObservation1 a dwc:HumanObservation ;\n",
      "    dsw:derivedFrom nc:organism1 ;\n",
      "    dsw:evidenceFor nc:occurrence1 ;\n",
      "    dsw:isBasisForId nc:identification1 .\n",
      "\n",
      "_:fd93f53698743411887b1d498fcd82ed2b2 a dwc:Taxon ;\n",
      "    rdfs:label \"Pteropus minimus\"@lat ;\n",
      "    nhc:belongsToTaxon taxonomy:9397 ;\n",
      "    nhc:taxonRank nhc:scientificName ;\n",
      "    rdf:value \"1\"^^xsd:int .\n",
      "\n",
      "\n"
     ]
    }
   ],
   "source": [
    "print(\"graph has {} statements.\".format(len(g)))\n",
    "print(g.serialize(format=\"turtle\").decode(\"utf-8\"))"
   ]
  },
  {
   "cell_type": "code",
   "execution_count": null,
   "metadata": {},
   "outputs": [],
   "source": [
    "G = nx.Graph()\n",
    "for (s, p, o) in g:\n",
    "    G.add_node(s.n3(g.namespace_manager), group=s.n3(g.namespace_manager).split(':')[0])\n",
    "    G.add_node(o.n3(g.namespace_manager), group=o.n3(g.namespace_manager).split(':')[0])\n",
    "    G.add_edge(s.n3(g.namespace_manager),o.n3(g.namespace_manager),label=p.n3(g.namespace_manager))\n",
    "nw.visualize(G)"
   ]
  }
 ],
 "metadata": {
  "kernelspec": {
   "display_name": "Python 3",
   "language": "python",
   "name": "python3"
  },
  "language_info": {
   "codemirror_mode": {
    "name": "ipython",
    "version": 3
   },
   "file_extension": ".py",
   "mimetype": "text/x-python",
   "name": "python",
   "nbconvert_exporter": "python",
   "pygments_lexer": "ipython3",
   "version": "3.9.0"
  }
 },
 "nbformat": 4,
 "nbformat_minor": 2
}
