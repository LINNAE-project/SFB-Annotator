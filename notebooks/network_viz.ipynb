{
 "cells": [
  {
   "cell_type": "markdown",
   "metadata": {},
   "source": [
    "# Network visualisation: LINNAE triples\n",
    "\n",
    "Note: this notebook was derived from https://github.com/candYgene/notebooks/blob/master/usecase_1/example_2/network_viz.ipynb"
   ]
  },
  {
   "cell_type": "code",
   "execution_count": null,
   "metadata": {},
   "outputs": [],
   "source": [
    "import networkx as nx\n",
    "import netwulf as nw\n",
    "import rdflib\n",
    "from rdflib.namespace import RDF, RDFS, OWL, XSD, FOAF, SKOS, DOAP, DC, DCTERMS, VOID"
   ]
  },
  {
   "cell_type": "code",
   "execution_count": null,
   "metadata": {},
   "outputs": [],
   "source": [
    "ANNO = rdflib.Namespace(\"http://localhost:8080/rdf/nc/annotation/\")\n",
    "DWC = rdflib.Namespace(\"http://rs.tdwg.org/dwc/terms/\")\n",
    "NHC = rdflib.Namespace(\"http://makingsense.liacs.nl/rdf/nhc/\")\n",
    "DWCIRI =rdflib.Namespace(\"http://rs.tdwg.org/dwc/iri/\")\n",
    "OA =rdflib.Namespace(\"http://www.w3.org/ns/oa#\")\n",
    "DSW = rdflib.Namespace(\"http://purl.org/dsw/\")\n",
    "NC = rdflib.Namespace(\"http://makingsense.liacs.nl/rdf/nc/\")\n",
    "EX = rdflib.Namespace(\"http://localhost:8080/semanticAnnotator/files/\")\n",
    "DCMITYPE = rdflib.Namespace(\"http://purl.org/dc/dcmitype/\")"
   ]
  },
  {
   "cell_type": "code",
   "execution_count": null,
   "metadata": {},
   "outputs": [],
   "source": [
    "g = rdflib.Graph()\n",
    "base_url = \"https://raw.githubusercontent.com/LINNAE-project/SFB-Annotator/master/data/rdf/local/\"\n",
    "rdf_file = base_url + \"example_1_2.ttl\"\n",
    "g.parse(rdf_file, format='ttl')\n",
    "g.bind(\"foaf\", FOAF)\n",
    "g.bind(\"rdf\", RDF)\n",
    "g.bind(\"dwc\", DWC)\n",
    "g.bind(\"dwciri\", DWCIRI)\n",
    "g.bind(\"dsw\", DSW)\n",
    "g.bind(\"nhc\", NHC)\n",
    "g.bind(\"dc\", DC)\n",
    "g.bind(\"oa\", OA)\n",
    "g.bind(\"dcterms\", DCTERMS)\n",
    "g.bind(\"nc\", NC)\n",
    "g.bind(\"ex\", EX)\n",
    "g.bind(\"dcmitype\", DCMITYPE)\n",
    "g.bind(\"anno\", ANNO)"
   ]
  },
  {
   "cell_type": "code",
   "execution_count": null,
   "metadata": {},
   "outputs": [],
   "source": [
    "print(\"graph has {} statements.\".format(len(g)))\n",
    "print(g.serialize(format=\"turtle\").decode(\"utf-8\"))"
   ]
  },
  {
   "cell_type": "code",
   "execution_count": null,
   "metadata": {},
   "outputs": [],
   "source": [
    "G = nx.Graph()\n",
    "for (s, p, o) in g:\n",
    "    G.add_node(s.n3(g.namespace_manager), group=s.n3(g.namespace_manager).split(':')[0])\n",
    "    G.add_node(o.n3(g.namespace_manager), group=o.n3(g.namespace_manager).split(':')[0])\n",
    "    G.add_edge(s.n3(g.namespace_manager),o.n3(g.namespace_manager),label=p.n3(g.namespace_manager))"
   ]
  },
  {
   "cell_type": "code",
   "execution_count": null,
   "metadata": {},
   "outputs": [],
   "source": [
    "nw.visualize(G)"
   ]
  }
 ],
 "metadata": {
  "kernelspec": {
   "display_name": "Python 3",
   "language": "python",
   "name": "python3"
  },
  "language_info": {
   "codemirror_mode": {
    "name": "ipython",
    "version": 3
   },
   "file_extension": ".py",
   "mimetype": "text/x-python",
   "name": "python",
   "nbconvert_exporter": "python",
   "pygments_lexer": "ipython3",
   "version": "3.9.0"
  }
 },
 "nbformat": 4,
 "nbformat_minor": 2
}
